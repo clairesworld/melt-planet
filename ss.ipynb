{
 "cells": [
  {
   "cell_type": "code",
   "execution_count": 4,
   "id": "f63fc0f1",
   "metadata": {},
   "outputs": [],
   "source": [
    "import matplotlib.pyplot as plt"
   ]
  },
  {
   "cell_type": "code",
   "execution_count": 8,
   "id": "d0c03169",
   "metadata": {},
   "outputs": [],
   "source": [
    "# constants\n",
    "\n",
    "rho = 3400 \n",
    "g = 3\n",
    "alpha = 5e-5\n",
    "d = 1000e3\n",
    "k = 3\n",
    "kappa = 7e-7\n",
    "eta = 1e20\n",
    "L = 600e3\n",
    "Nu_max = 1.65\n",
    "\n",
    "# boundary conditions\n",
    "Tsurf = 250"
   ]
  },
  {
   "cell_type": "code",
   "execution_count": 6,
   "id": "52a27865",
   "metadata": {},
   "outputs": [],
   "source": [
    "def temperature_scale(H, d, k):\n",
    "    return H * d ** 2 / k\n",
    "\n",
    "def RaH(rho, g, alpha, dTH, d, kappa, eta):\n",
    "    return rho * g * alpha * dTH * d ** 3 / (kappa * eta)\n",
    "\n",
    "def f_avg(zp, c=0.05, d=1.55):\n",
    "    # nondimensional \"ambient\" T profile\n",
    "    return c / zp ** d\n",
    "\n",
    "def delta_tbl_avg(RaH):\n",
    "    # nondimensional bdy layer thickness\n",
    "    if RaH < 1e5:\n",
    "        return 0.8241 * RaH ** -0.06637\n",
    "    elif RaH < 1e7:\n",
    "        return 4.4412 * RaH ** -0.2203\n",
    "    elif RaH < 1e9:\n",
    "        return 5.6995 * RaH ** -0.2352\n",
    "    else:\n",
    "        raise Exception('RaH out of bounds')\n",
    "\n",
    "def mixing_length_avg(zp, RaH):\n",
    "    # nondimensional mixing length\n",
    "    delta_tbl = delta_tbl_avg(RaH)\n",
    "    \n",
    "    b = 1 - delta_tbl  # z* at max value\n",
    "    a = ( 18 * b / (RaH * f_avg(b) ** 2) ) ** (1/4)  # max value of l*\n",
    "    \n",
    "    if zp < b:\n",
    "        return a/b * zp  # distance from upper boundary\n",
    "    else:\n",
    "        return -a / (1 - b) * zp + a + (a * b) / (1 - b)  # distance from lower boundary\n",
    "        \n",
    "\n",
    "def f_hot(zp, c=0.055, d=1.52):\n",
    "    # nondimensional \"ambient\" T profile\n",
    "    return c / zp ** d\n",
    "\n",
    "def delta_tbl_hot(RaH):\n",
    "    # nondimensional bdy layer thickness\n",
    "    if RaH < 1e5:\n",
    "        return 1.7881 * RaH ** -0.1558\n",
    "    elif RaH < 1e7:\n",
    "        return 4.3793 * RaH ** -0.234\n",
    "    elif RaH < 1e9:\n",
    "        return 4.6238 * RaH ** -0.2361\n",
    "    else:\n",
    "        raise Exception('RaH out of bounds')\n",
    "\n",
    "def mixing_length_hot(zp, RaH):\n",
    "    # nondimensional mixing length\n",
    "    delta_tbl = delta_tbl_hot(RaH)\n",
    "    \n",
    "    b = 1 - delta_tbl  # z* at max value\n",
    "    a = ( 18 * b / (RaH * f_hot(b) ** 2) ) ** (1/4)  # max value of l*\n",
    "    \n",
    "    if zp < b:\n",
    "        return a/b * zp  # distance from upper boundary\n",
    "    else:\n",
    "        return -a / (1 - b) * zp + a + (a * b) / (1 - b)  # distance from lower boundary\n",
    "\n"
   ]
  },
  {
   "cell_type": "code",
   "execution_count": 7,
   "id": "df209eaf",
   "metadata": {},
   "outputs": [
    {
     "data": {
      "text/plain": [
       "[<matplotlib.lines.Line2D at 0x7f98dc1eca30>]"
      ]
     },
     "execution_count": 7,
     "metadata": {},
     "output_type": "execute_result"
    },
    {
     "data": {
      "image/png": "[encoded data removed]",
      "text/plain": [
       "<Figure size 640x480 with 1 Axes>"
      ]
     },
     "metadata": {},
     "output_type": "display_data"
    }
   ],
   "source": [
    "zmin, zmax = 0, 1\n",
    "import numpy as np\n",
    "zv = np.linspace(zmin, zmax)\n",
    "plt.plot((zv - zmin)/(zmax-zmin), [mixing_length_avg(zi) for zi in zv])"
   ]
  },
  {
   "cell_type": "code",
   "execution_count": null,
   "id": "1ecc3690",
   "metadata": {},
   "outputs": [],
   "source": []
  }
 ],
 "metadata": {
  "kernelspec": {
   "display_name": "Python 3 (ipykernel)",
   "language": "python",
   "name": "python3"
  },
  "language_info": {
   "codemirror_mode": {
    "name": "ipython",
    "version": 3
   },
   "file_extension": ".py",
   "mimetype": "text/x-python",
   "name": "python",
   "nbconvert_exporter": "python",
   "pygments_lexer": "ipython3",
   "version": "3.8.10"
  }
 },
 "nbformat": 4,
 "nbformat_minor": 5
}
